{
 "cells": [
  {
   "cell_type": "code",
   "execution_count": 34,
   "id": "a46d6a57",
   "metadata": {},
   "outputs": [
    {
     "name": "stdout",
     "output_type": "stream",
     "text": [
      "Requirement already satisfied: SpeechRecognition in c:\\users\\dell\\anaconda3\\lib\\site-packages (3.8.1)\n"
     ]
    }
   ],
   "source": [
    "!pip install SpeechRecognition"
   ]
  },
  {
   "cell_type": "code",
   "execution_count": 7,
   "id": "ae8af5d3",
   "metadata": {},
   "outputs": [],
   "source": [
    "import speech_recognition as sr\n",
    "r = sr.Recognizer()"
   ]
  },
  {
   "cell_type": "code",
   "execution_count": 28,
   "id": "aadd60ed",
   "metadata": {},
   "outputs": [
    {
     "name": "stdout",
     "output_type": "stream",
     "text": [
      "Shazz Africa Said...\n",
      "it really feels good finally cracked this Python I thought was a joke I'm glad I'm able to do this\n"
     ]
    }
   ],
   "source": [
    "with sr.AudioFile('Voice_001.wav') as source:\n",
    "    audio = r.listen(source)\n",
    "    try:\n",
    "        text = r.recognize_google(audio)\n",
    "        print(\"Shazz Africa Said...\")\n",
    "        print(text)\n",
    "    except:\n",
    "        print(\"sorry, run again...\")"
   ]
  },
  {
   "cell_type": "code",
   "execution_count": 33,
   "id": "9db15561",
   "metadata": {},
   "outputs": [],
   "source": [
    "with open ('Newfile.txt', 'w') as out:\n",
    "    out.writelines(text)"
   ]
  },
  {
   "cell_type": "code",
   "execution_count": null,
   "id": "171b6aba",
   "metadata": {},
   "outputs": [],
   "source": []
  },
  {
   "cell_type": "code",
   "execution_count": null,
   "id": "8f4e4d20",
   "metadata": {},
   "outputs": [],
   "source": []
  },
  {
   "cell_type": "code",
   "execution_count": null,
   "id": "f34498e8",
   "metadata": {},
   "outputs": [],
   "source": []
  },
  {
   "cell_type": "code",
   "execution_count": null,
   "id": "1b0c74fc",
   "metadata": {},
   "outputs": [],
   "source": []
  },
  {
   "cell_type": "code",
   "execution_count": null,
   "id": "5de4c19a",
   "metadata": {},
   "outputs": [],
   "source": []
  },
  {
   "cell_type": "code",
   "execution_count": null,
   "id": "d8e92b08",
   "metadata": {},
   "outputs": [],
   "source": [
    "def Conversion(file, lang):\n",
    "    all_=[]\n",
    "    with sr.AudioFile(file) as source:\n",
    "        print(\"Fetching file...\")\n",
    "        audio_text = r.listen(source)\n",
    "        try:\n",
    "            print(\"Converting audio to text...\")\n",
    "            text = r.recognize_google(audio_text, language=lang)\n",
    "            all_.append()\n",
    "        except:\n",
    "            print(\"sorry, run again...\")\n",
    "    print(all_)\n",
    "        \n",
    "if __name__ == \"__main__\":\n",
    "    Conversion(\"Voice_001.wav\",\"en=IN\")\n",
    "        "
   ]
  }
 ],
 "metadata": {
  "kernelspec": {
   "display_name": "Python 3 (ipykernel)",
   "language": "python",
   "name": "python3"
  },
  "language_info": {
   "codemirror_mode": {
    "name": "ipython",
    "version": 3
   },
   "file_extension": ".py",
   "mimetype": "text/x-python",
   "name": "python",
   "nbconvert_exporter": "python",
   "pygments_lexer": "ipython3",
   "version": "3.9.12"
  }
 },
 "nbformat": 4,
 "nbformat_minor": 5
}
